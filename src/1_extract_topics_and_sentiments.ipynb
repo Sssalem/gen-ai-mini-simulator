{
 "cells": [
  {
   "cell_type": "code",
   "execution_count": 1,
   "id": "initial_id",
   "metadata": {
    "collapsed": true,
    "ExecuteTime": {
     "end_time": "2024-06-04T09:54:28.215380Z",
     "start_time": "2024-06-04T09:54:28.185041Z"
    }
   },
   "outputs": [],
   "source": [
    "%load_ext autoreload\n",
    "%autoreload 2"
   ]
  },
  {
   "cell_type": "code",
   "outputs": [],
   "source": [
    "from dataset.dataset_utils import *\n",
    "from utils.runctx import RunCtx"
   ],
   "metadata": {
    "collapsed": false,
    "ExecuteTime": {
     "end_time": "2024-06-04T09:54:30.098387Z",
     "start_time": "2024-06-04T09:54:28.818765Z"
    }
   },
   "id": "1bcbdae191b51514",
   "execution_count": 2
  },
  {
   "cell_type": "code",
   "outputs": [],
   "source": [
    "run_ctx = RunCtx(\"<YOUR_TOKEN>\")"
   ],
   "metadata": {
    "collapsed": false,
    "ExecuteTime": {
     "end_time": "2024-06-04T09:54:30.128186Z",
     "start_time": "2024-06-04T09:54:30.100742Z"
    }
   },
   "id": "7439abfe4589c6dc",
   "execution_count": 3
  },
  {
   "cell_type": "code",
   "outputs": [],
   "source": [
    "all_reviews_df = load_reviews(run_ctx.data_dir + \"/us_reviews.csv\")\n",
    "# we split review in two parts - before and after acquisition\n",
    "samples = split_reviews_by_event_date(all_reviews_df)\n",
    "# we generate small train and validate datasets to be able to do a manual quality evalutaion\n",
    "train, validate = prepare_train_validate(samples, size=25)"
   ],
   "metadata": {
    "collapsed": false,
    "ExecuteTime": {
     "end_time": "2024-06-04T09:54:30.232427Z",
     "start_time": "2024-06-04T09:54:30.131505Z"
    }
   },
   "id": "9fe2269f3e11811",
   "execution_count": 4
  },
  {
   "cell_type": "code",
   "outputs": [],
   "source": [
    "async def async_run_pipeline(model, prompt_fn, dataset, output_name):\n",
    "    \"\"\"\n",
    "    This function runs a specified prompt and model with review_topic_pipeline against the batch of reviews\n",
    "    :param model: model to use \n",
    "    :param prompt_fn: prompt to use\n",
    "    :param dataset: dataset to run on\n",
    "    :param output_name: base name for results files\n",
    "    \"\"\"\n",
    "    from pipeline.pipeline import async_review_topic_pipeline\n",
    "\n",
    "    pipeline_fn = async_review_topic_pipeline(model, prompt_fn)\n",
    "    results = await run_ctx.run_async(pipeline_fn, dataset)\n",
    "    run_ctx.state.save(results, output_name + \".json\", overwrite=True)\n",
    "    pd.DataFrame.from_records(sum(results, [])).to_csv(\"%s/results_%s.csv\" % (run_ctx.data_dir, output_name), index=False)\n",
    "    return results"
   ],
   "metadata": {
    "collapsed": false,
    "ExecuteTime": {
     "end_time": "2024-06-04T09:54:31.748757Z",
     "start_time": "2024-06-04T09:54:31.695642Z"
    }
   },
   "id": "97caa47178893e54",
   "execution_count": 5
  },
  {
   "cell_type": "code",
   "outputs": [],
   "source": [
    "from prompts.prompts import make_extraction_prompt_v2\n",
    "results_sample = await async_run_pipeline(run_ctx.model_gpt3_5, make_extraction_prompt_v2, train, \"results_sample_gpt_3_5_final\")"
   ],
   "metadata": {
    "collapsed": false,
    "ExecuteTime": {
     "end_time": "2024-06-04T10:07:59.356227Z",
     "start_time": "2024-06-04T10:07:54.334578Z"
    }
   },
   "id": "4a4b167d43364649",
   "execution_count": 10
  },
  {
   "cell_type": "code",
   "outputs": [],
   "source": [
    "# here we prepare a dataset containing equals number of reviews made before and after acquisition\n",
    "all_reviews = prepare_stratified_dataset(samples)"
   ],
   "metadata": {
    "collapsed": false,
    "ExecuteTime": {
     "end_time": "2024-06-04T09:54:50.745853Z",
     "start_time": "2024-06-04T09:54:50.703617Z"
    }
   },
   "id": "efcd12c23e111847",
   "execution_count": 7
  },
  {
   "cell_type": "code",
   "outputs": [],
   "source": [
    "results_all = await async_run_pipeline(run_ctx.model_gpt3_5, make_extraction_prompt_v2, all_reviews[0:300], \"results_all_gpt_3_5_final\")"
   ],
   "metadata": {
    "collapsed": false,
    "ExecuteTime": {
     "end_time": "2024-06-04T09:55:42.856782Z",
     "start_time": "2024-06-04T09:55:16.642186Z"
    }
   },
   "id": "c50cdc440ab88cdd",
   "execution_count": 9
  },
  {
   "cell_type": "code",
   "outputs": [],
   "source": [],
   "metadata": {
    "collapsed": false
   },
   "id": "38403dd243914eed"
  }
 ],
 "metadata": {
  "kernelspec": {
   "display_name": "Python 3",
   "language": "python",
   "name": "python3"
  },
  "language_info": {
   "codemirror_mode": {
    "name": "ipython",
    "version": 2
   },
   "file_extension": ".py",
   "mimetype": "text/x-python",
   "name": "python",
   "nbconvert_exporter": "python",
   "pygments_lexer": "ipython2",
   "version": "2.7.6"
  }
 },
 "nbformat": 4,
 "nbformat_minor": 5
}
