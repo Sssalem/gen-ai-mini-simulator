{
 "cells": [
  {
   "cell_type": "code",
   "execution_count": 1,
   "id": "initial_id",
   "metadata": {
    "collapsed": true,
    "ExecuteTime": {
     "end_time": "2024-06-04T09:56:58.514248Z",
     "start_time": "2024-06-04T09:56:58.477788Z"
    }
   },
   "outputs": [],
   "source": [
    "%load_ext autoreload\n",
    "%autoreload 2"
   ]
  },
  {
   "cell_type": "code",
   "outputs": [],
   "source": [
    "import json\n",
    "\n",
    "from dataset.dataset_utils import *\n",
    "from utils.runctx import RunCtx"
   ],
   "metadata": {
    "collapsed": false,
    "ExecuteTime": {
     "end_time": "2024-06-04T09:56:59.265848Z",
     "start_time": "2024-06-04T09:56:58.517529Z"
    }
   },
   "id": "1bcbdae191b51514",
   "execution_count": 2
  },
  {
   "cell_type": "code",
   "outputs": [],
   "source": [
    "run_ctx = RunCtx(\"<YOUR_TOKEN>\")\n"
   ],
   "metadata": {
    "collapsed": false,
    "ExecuteTime": {
     "end_time": "2024-06-04T09:56:59.303110Z",
     "start_time": "2024-06-04T09:56:59.267998Z"
    }
   },
   "id": "7439abfe4589c6dc",
   "execution_count": 3
  },
  {
   "cell_type": "code",
   "outputs": [],
   "source": [
    "results_all = run_ctx.state.load(\"results_all_gpt_3_5_final.json\")\n",
    "# we extract all topic names and a sample of 200 for categorization \n",
    "all_topic_names, topics_sample = prepare_topic_sample(results_all, size=200)"
   ],
   "metadata": {
    "collapsed": false,
    "ExecuteTime": {
     "end_time": "2024-06-04T09:57:00.819106Z",
     "start_time": "2024-06-04T09:57:00.117676Z"
    }
   },
   "id": "9fe2269f3e11811",
   "execution_count": 4
  },
  {
   "cell_type": "code",
   "outputs": [],
   "source": [
    "run_ctx.state.save(all_topic_names, \"all_topic_names.json\", overwrite=True)"
   ],
   "metadata": {
    "collapsed": false,
    "ExecuteTime": {
     "end_time": "2024-06-04T09:57:01.653957Z",
     "start_time": "2024-06-04T09:57:01.598391Z"
    }
   },
   "id": "c346d7395c97969",
   "execution_count": 5
  },
  {
   "cell_type": "code",
   "outputs": [
    {
     "name": "stdout",
     "output_type": "stream",
     "text": [
      "{\n",
      "    \"App Functionality\": \"Topics related to the technical aspects and features of the app, including bugs, updates, and user interface.\",\n",
      "    \"Content Moderation\": \"Topics concerning the handling, filtering, and moderation of content, including offensive and inappropriate content.\",\n",
      "    \"User Experience\": \"Topics related to the overall user experience, including satisfaction, engagement, and app usage frequency.\",\n",
      "    \"Free Speech and Censorship\": \"Topics discussing the balance between free speech and censorship, including biases, suppression of opinions, and freedom of information.\",\n",
      "    \"Customer Support\": \"Topics related to the responsiveness, effectiveness, and experience with customer support.\",\n",
      "    \"Platform Bias and Political Influence\": \"Topics discussing perceived biases, political influence, and the role of Twitter in shaping public opinion and discourse.\",\n",
      "    \"Account Management\": \"Topics related to account registration, recovery, suspension, and other account-related processes.\",\n",
      "    \"Social Connection and Networking\": \"Topics discussing the social aspect of the platform, including networking, community behavior, and social interaction.\",\n",
      "    \"Monetization and Premium Features\": \"Topics related to the monetization strategy of the app, including premium subscriptions and ad frequency.\",\n",
      "    \"Data Management and Transparency\": \"Topics discussing data transparency, security, and management.\",\n",
      "    \"Company Direction and Ownership\": \"Topics related to the direction of the company, including changes in ownership and corporate actions.\",\n",
      "    \"Content Quality and Variety\": \"Topics discussing the quality, variety, and relevance of content on the platform.\",\n",
      "    \"User Protection and Safety\": \"Topics related to the protection of users, including young users, and handling of abuse.\",\n",
      "    \"Ethical Concerns\": \"Topics discussing ethical concerns related to the platform and its impact on society.\"\n",
      "}\n"
     ]
    }
   ],
   "source": [
    "from pipeline.pipeline import async_topic_categorization_pipeline\n",
    "from prompts.prompts import make_categorization_prompt_v2\n",
    "\n",
    "results_v1_1 = await async_topic_categorization_pipeline(run_ctx.model_gpt4, make_categorization_prompt_v2)(topics_sample)\n",
    "print(json.dumps(results_v1_1, indent=4))"
   ],
   "metadata": {
    "collapsed": false,
    "ExecuteTime": {
     "end_time": "2024-06-04T09:57:24.296695Z",
     "start_time": "2024-06-04T09:57:02.520549Z"
    }
   },
   "id": "80f9dfa221b14e3",
   "execution_count": 6
  },
  {
   "cell_type": "code",
   "outputs": [],
   "source": [
    "run_ctx.state.save(results_v1_1, \"categorization_results_v2.json\", overwrite=True)"
   ],
   "metadata": {
    "collapsed": false,
    "ExecuteTime": {
     "end_time": "2024-06-04T09:57:24.327822Z",
     "start_time": "2024-06-04T09:57:24.298815Z"
    }
   },
   "id": "67103a45312fd4a2",
   "execution_count": 7
  },
  {
   "cell_type": "code",
   "outputs": [],
   "source": [],
   "metadata": {
    "collapsed": false
   },
   "id": "33523bda6b3b62fb"
  }
 ],
 "metadata": {
  "kernelspec": {
   "display_name": "Python 3",
   "language": "python",
   "name": "python3"
  },
  "language_info": {
   "codemirror_mode": {
    "name": "ipython",
    "version": 2
   },
   "file_extension": ".py",
   "mimetype": "text/x-python",
   "name": "python",
   "nbconvert_exporter": "python",
   "pygments_lexer": "ipython2",
   "version": "2.7.6"
  }
 },
 "nbformat": 4,
 "nbformat_minor": 5
}
